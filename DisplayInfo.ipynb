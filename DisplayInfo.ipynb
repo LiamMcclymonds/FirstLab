{
 "cells": [
  {
   "cell_type": "code",
   "execution_count": 3,
   "id": "62c076ba-bbf2-45e3-b694-f3c9e3253cfc",
   "metadata": {},
   "outputs": [
    {
     "name": "stdin",
     "output_type": "stream",
     "text": [
      "Type in your name! Nick\n",
      "Type in your age! 19\n"
     ]
    },
    {
     "name": "stdout",
     "output_type": "stream",
     "text": [
      "Your name is  Nick  and you are  19  years old.\n"
     ]
    }
   ],
   "source": [
    "name = input(\"Type in your name!\")\n",
    "age = input(\"Type in your age!\")\n",
    "\n",
    "print(\"Your name is \",name, \" and you are \",age, \" years old.\")\n"
   ]
  },
  {
   "cell_type": "code",
   "execution_count": null,
   "id": "58c331c1-7132-4649-8e7b-f5c3526d9c43",
   "metadata": {},
   "outputs": [],
   "source": []
  }
 ],
 "metadata": {
  "kernelspec": {
   "display_name": "Python 3 (ipykernel)",
   "language": "python",
   "name": "python3"
  },
  "language_info": {
   "codemirror_mode": {
    "name": "ipython",
    "version": 3
   },
   "file_extension": ".py",
   "mimetype": "text/x-python",
   "name": "python",
   "nbconvert_exporter": "python",
   "pygments_lexer": "ipython3",
   "version": "3.12.4"
  }
 },
 "nbformat": 4,
 "nbformat_minor": 5
}
